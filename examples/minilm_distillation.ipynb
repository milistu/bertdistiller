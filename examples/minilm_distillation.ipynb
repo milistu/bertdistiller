{
 "cells": [
  {
   "cell_type": "code",
   "execution_count": null,
   "metadata": {},
   "outputs": [],
   "source": [
    "from minilm import (\n",
    "    MiniLMTrainer,\n",
    "    MiniLMTrainingArguments,\n",
    "    prepare_dataset,\n",
    "    create_student,\n",
    ")\n",
    "from datasets import load_dataset\n",
    "from transformers import (\n",
    "    AutoTokenizer,\n",
    "    AutoModel,\n",
    "    DataCollatorWithPadding,\n",
    "    TrainingArguments,\n",
    ")\n",
    "from pathlib import Path\n",
    "from datetime import datetime"
   ]
  },
  {
   "cell_type": "markdown",
   "metadata": {},
   "source": [
    "## Dataset"
   ]
  },
  {
   "cell_type": "code",
   "execution_count": null,
   "metadata": {},
   "outputs": [],
   "source": [
    "cache_dir = \"../.cache\"  # Optional\n",
    "dataset_id = \"bookcorpus/bookcorpus\"\n",
    "model_name = \"google-bert/bert-base-uncased\""
   ]
  },
  {
   "cell_type": "code",
   "execution_count": null,
   "metadata": {},
   "outputs": [],
   "source": [
    "tokenizer = AutoTokenizer.from_pretrained(model_name, cache_dir=cache_dir)"
   ]
  },
  {
   "cell_type": "code",
   "execution_count": null,
   "metadata": {},
   "outputs": [],
   "source": [
    "dataset = load_dataset(dataset_id, split=\"train\", cache_dir=cache_dir)\n",
    "dataset = dataset.select(range(min(len(dataset), 10_000)))  # Small dataset for testing"
   ]
  },
  {
   "cell_type": "code",
   "execution_count": null,
   "metadata": {},
   "outputs": [],
   "source": [
    "train_dataset = prepare_dataset(\n",
    "    datasets=[dataset],\n",
    "    tokenizer=tokenizer,\n",
    "    max_seq_len=64,\n",
    "    tokenization_kwargs={\"padding\": \"do_not_pad\"},\n",
    ")"
   ]
  },
  {
   "cell_type": "code",
   "execution_count": null,
   "metadata": {},
   "outputs": [],
   "source": [
    "import random\n",
    "\n",
    "random.seed(42)\n",
    "\n",
    "val_dataset = dataset.select(\n",
    "    random.sample(range(len(dataset)), 1_000)\n",
    ")  # Small val dataset for testing"
   ]
  },
  {
   "cell_type": "code",
   "execution_count": null,
   "metadata": {},
   "outputs": [],
   "source": [
    "val_dataset = prepare_dataset(\n",
    "    datasets=[val_dataset],\n",
    "    tokenizer=tokenizer,\n",
    "    max_seq_len=64,\n",
    "    tokenization_kwargs={\"padding\": \"do_not_pad\"},\n",
    ")"
   ]
  },
  {
   "cell_type": "markdown",
   "metadata": {},
   "source": [
    "## Distillation Arguments"
   ]
  },
  {
   "cell_type": "code",
   "execution_count": null,
   "metadata": {},
   "outputs": [],
   "source": [
    "short_model_name = model_name if \"/\" not in model_name else model_name.split(\"/\")[-1]\n",
    "short_model_name"
   ]
  },
  {
   "cell_type": "code",
   "execution_count": null,
   "metadata": {},
   "outputs": [],
   "source": [
    "output_dir = Path(\"./results\")\n",
    "dt = datetime.now().strftime(\"%Y-%b-%d_%H-%M-%S\")\n",
    "output_dir = output_dir / f\"{short_model_name}_{dt}\""
   ]
  },
  {
   "cell_type": "code",
   "execution_count": null,
   "metadata": {},
   "outputs": [],
   "source": [
    "TrainingArguments(\n",
    "    eval_strategy=\"steps\",\n",
    ")"
   ]
  },
  {
   "cell_type": "code",
   "execution_count": null,
   "metadata": {},
   "outputs": [],
   "source": [
    "args = MiniLMTrainingArguments(\n",
    "    # Distillation arguments\n",
    "    teacher_layer=12,\n",
    "    student_layer=6,\n",
    "    student_hidden_size=384,\n",
    "    student_attention_heads=12,\n",
    "    num_relation_heads=48,\n",
    "    relations={\n",
    "        (1, 1): 1.0,\n",
    "        (2, 2): 1.0,\n",
    "        (3, 3): 1.0,\n",
    "    },\n",
    "    # Training arguments\n",
    "    output_dir=output_dir,\n",
    "    per_device_train_batch_size=32,\n",
    "    per_device_eval_batch_size=32,\n",
    "    learning_rate=6e-4,\n",
    "    weight_decay=0.01,\n",
    "    adam_beta1=0.9,\n",
    "    adam_beta2=0.999,\n",
    "    adam_epsilon=1e-6,\n",
    "    max_steps=400_000,\n",
    "    warmup_steps=4_000,\n",
    "    logging_steps=10,  # 1_000,\n",
    "    save_steps=500,  # 50_000,\n",
    "    seed=42,\n",
    "    ddp_find_unused_parameters=True,\n",
    "    save_total_limit=5,\n",
    "    load_best_model_at_end=True,\n",
    "    metric_for_best_model=\"eval_loss\",\n",
    "    prediction_loss_only=True,\n",
    "    greater_is_better=False,\n",
    "    save_strategy=\"steps\",\n",
    "    eval_strategy=\"steps\",\n",
    "    eval_steps=10,  # 50_000\n",
    ")"
   ]
  },
  {
   "cell_type": "markdown",
   "metadata": {},
   "source": [
    "## Models"
   ]
  },
  {
   "cell_type": "code",
   "execution_count": null,
   "metadata": {},
   "outputs": [],
   "source": [
    "teacher = AutoModel.from_pretrained(model_name, cache_dir=cache_dir)"
   ]
  },
  {
   "cell_type": "code",
   "execution_count": null,
   "metadata": {},
   "outputs": [],
   "source": [
    "student = create_student(\n",
    "    teacher_model_name_or_path=model_name,\n",
    "    args=args,\n",
    "    use_teacher_weights=False,\n",
    "    cache_dir=cache_dir,\n",
    ")"
   ]
  },
  {
   "cell_type": "code",
   "execution_count": null,
   "metadata": {},
   "outputs": [],
   "source": [
    "student_tw = create_student(\n",
    "    teacher_model_name_or_path=model_name,\n",
    "    args=args,\n",
    "    use_teacher_weights=True,\n",
    "    cache_dir=cache_dir,\n",
    ")"
   ]
  },
  {
   "cell_type": "markdown",
   "metadata": {},
   "source": [
    "## Trainer"
   ]
  },
  {
   "cell_type": "code",
   "execution_count": null,
   "metadata": {},
   "outputs": [],
   "source": [
    "trainer = MiniLMTrainer(\n",
    "    args=args,\n",
    "    teacher_model=teacher,\n",
    "    model=student,\n",
    "    train_dataset=train_dataset,\n",
    "    eval_dataset=val_dataset,\n",
    "    data_collator=DataCollatorWithPadding(tokenizer, padding=\"longest\"),\n",
    ")"
   ]
  },
  {
   "cell_type": "code",
   "execution_count": null,
   "metadata": {},
   "outputs": [],
   "source": [
    "trainer.train()"
   ]
  },
  {
   "cell_type": "markdown",
   "metadata": {},
   "source": [
    "---\n",
    "Teacher Weights"
   ]
  },
  {
   "cell_type": "code",
   "execution_count": null,
   "metadata": {},
   "outputs": [],
   "source": [
    "trainer_tw = MiniLMTrainer(\n",
    "    args=args,\n",
    "    teacher_model=teacher,\n",
    "    model=student_tw,\n",
    "    train_dataset=train_dataset,\n",
    "    eval_dataset=val_dataset,\n",
    "    data_collator=DataCollatorWithPadding(tokenizer, padding=\"longest\"),\n",
    ")"
   ]
  },
  {
   "cell_type": "code",
   "execution_count": null,
   "metadata": {},
   "outputs": [],
   "source": [
    "trainer_tw.train()"
   ]
  },
  {
   "cell_type": "code",
   "execution_count": null,
   "metadata": {},
   "outputs": [],
   "source": []
  }
 ],
 "metadata": {
  "kernelspec": {
   "display_name": ".venv",
   "language": "python",
   "name": "python3"
  },
  "language_info": {
   "codemirror_mode": {
    "name": "ipython",
    "version": 3
   },
   "file_extension": ".py",
   "mimetype": "text/x-python",
   "name": "python",
   "nbconvert_exporter": "python",
   "pygments_lexer": "ipython3",
   "version": "3.10.13"
  }
 },
 "nbformat": 4,
 "nbformat_minor": 2
}
